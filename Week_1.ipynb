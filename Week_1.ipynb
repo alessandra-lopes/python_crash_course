{
  "nbformat": 4,
  "nbformat_minor": 0,
  "metadata": {
    "colab": {
      "provenance": [],
      "authorship_tag": "ABX9TyM6tWkyQSiHgk0Os0UZKYaY",
      "include_colab_link": true
    },
    "kernelspec": {
      "name": "python3",
      "display_name": "Python 3"
    },
    "language_info": {
      "name": "python"
    }
  },
  "cells": [
    {
      "cell_type": "markdown",
      "metadata": {
        "id": "view-in-github",
        "colab_type": "text"
      },
      "source": [
        "<a href=\"https://colab.research.google.com/github/alessandra-lopes/python_crash_course/blob/main/Week_1.ipynb\" target=\"_parent\"><img src=\"https://colab.research.google.com/assets/colab-badge.svg\" alt=\"Open In Colab\"/></a>"
      ]
    },
    {
      "cell_type": "markdown",
      "source": [
        "#<font color = #ff0000>RETURNING VALUES"
      ],
      "metadata": {
        "id": "T2Ys2k7yA5SB"
      }
    },
    {
      "cell_type": "code",
      "execution_count": null,
      "metadata": {
        "colab": {
          "base_uri": "https://localhost:8080/"
        },
        "id": "Tk5Iandh91Av",
        "outputId": "67d23ea9-4275-4500-e59b-d8a47e24bafd"
      },
      "outputs": [
        {
          "output_type": "stream",
          "name": "stdout",
          "text": [
            "Welcome, Xuco\n",
            "None\n"
          ]
        }
      ],
      "source": [
        "def greeting(name):\n",
        "\tprint(\"Welcome, \" + name)\n",
        "result = greeting(\"Xuco\")\n",
        "print(result)"
      ]
    },
    {
      "cell_type": "code",
      "source": [
        "def greeting(name):\n",
        "  print(\"Welcome, \" + name)\n",
        "  return(name)\n",
        "result = greeting(\"Xuco\")\n",
        "print(result)"
      ],
      "metadata": {
        "colab": {
          "base_uri": "https://localhost:8080/"
        },
        "id": "VVNUZX9W99DV",
        "outputId": "364038f9-cd2d-4b29-8992-2fc19d31a8e0"
      },
      "execution_count": null,
      "outputs": [
        {
          "output_type": "stream",
          "name": "stdout",
          "text": [
            "Welcome, Xuco\n",
            "Xuco\n"
          ]
        }
      ]
    },
    {
      "cell_type": "code",
      "source": [
        "def area_triangle(base, height):\n",
        "  return base*height/2\n",
        "area_a = area_triangle(5,4)\n",
        "area_b = area_triangle(7,3)\n",
        "sum = area_a + area_b\n",
        "print(\"The sum of both areas is: \" + str(sum))"
      ],
      "metadata": {
        "colab": {
          "base_uri": "https://localhost:8080/"
        },
        "id": "2JQV3QJvAkak",
        "outputId": "a296e5e2-ad21-475b-d68f-de2e4668efaa"
      },
      "execution_count": null,
      "outputs": [
        {
          "output_type": "stream",
          "name": "stdout",
          "text": [
            "The sum of both areas is: 20.5\n"
          ]
        }
      ]
    },
    {
      "cell_type": "code",
      "source": [
        "# 1) Complete the function to return the result of the conversion\n",
        "def convert_distance(miles):\n",
        "\tkm = miles * 1.6  # approximately 1.6 km in 1 mile\n",
        "\treturn ___\n",
        "\n",
        "# Do not indent any of the following lines of code as they are\n",
        "# meant to be located outside of the function above\n",
        "\n",
        "my_trip_miles = 55\n",
        "\n",
        "# 2) Convert my_trip_miles to kilometers by calling the function above\n",
        "my_trip_km = ___(my_trip_miles)\n",
        "\n",
        "# 3) Fill in the blank to print the result of the my_trip_km conversion\n",
        "print(\"The distance in kilometers is \" + str(___))\n",
        "\n",
        "# 4) Calculate the round-trip in kilometers by doubling the result of\n",
        "#    my_trip_km. Fill in the blank to print the result.\n",
        "print(\"The round-trip in kilometers is \" + str(___*___))"
      ],
      "metadata": {
        "id": "fMvJBP2NwqG8"
      },
      "execution_count": null,
      "outputs": []
    }
  ]
}